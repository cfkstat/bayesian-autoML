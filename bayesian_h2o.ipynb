{
 "cells": [
  {
   "cell_type": "code",
   "execution_count": 1,
   "metadata": {},
   "outputs": [],
   "source": [
    "import h2o\n",
    "from bayes_opt import BayesianOptimization"
   ]
  },
  {
   "cell_type": "code",
   "execution_count": 2,
   "metadata": {},
   "outputs": [
    {
     "name": "stdout",
     "output_type": "stream",
     "text": [
      "Checking whether there is an H2O instance running at http://localhost:54321. connected.\n"
     ]
    },
    {
     "data": {
      "text/html": [
       "<div style=\"overflow:auto\"><table style=\"width:50%\"><tr><td>H2O cluster uptime:</td>\n",
       "<td>17 days 1 hour 34 mins</td></tr>\n",
       "<tr><td>H2O cluster timezone:</td>\n",
       "<td>America/Santiago</td></tr>\n",
       "<tr><td>H2O data parsing timezone:</td>\n",
       "<td>UTC</td></tr>\n",
       "<tr><td>H2O cluster version:</td>\n",
       "<td>3.22.0.3</td></tr>\n",
       "<tr><td>H2O cluster version age:</td>\n",
       "<td>28 days, 19 hours and 20 minutes </td></tr>\n",
       "<tr><td>H2O cluster name:</td>\n",
       "<td>H2O_from_python_maravenag_3wzuvj</td></tr>\n",
       "<tr><td>H2O cluster total nodes:</td>\n",
       "<td>1</td></tr>\n",
       "<tr><td>H2O cluster free memory:</td>\n",
       "<td>3.268 Gb</td></tr>\n",
       "<tr><td>H2O cluster total cores:</td>\n",
       "<td>8</td></tr>\n",
       "<tr><td>H2O cluster allowed cores:</td>\n",
       "<td>8</td></tr>\n",
       "<tr><td>H2O cluster status:</td>\n",
       "<td>locked, healthy</td></tr>\n",
       "<tr><td>H2O connection url:</td>\n",
       "<td>http://localhost:54321</td></tr>\n",
       "<tr><td>H2O connection proxy:</td>\n",
       "<td>None</td></tr>\n",
       "<tr><td>H2O internal security:</td>\n",
       "<td>False</td></tr>\n",
       "<tr><td>H2O API Extensions:</td>\n",
       "<td>XGBoost, Algos, AutoML, Core V3, Core V4</td></tr>\n",
       "<tr><td>Python version:</td>\n",
       "<td>3.6.7 final</td></tr></table></div>"
      ],
      "text/plain": [
       "--------------------------  ----------------------------------------\n",
       "H2O cluster uptime:         17 days 1 hour 34 mins\n",
       "H2O cluster timezone:       America/Santiago\n",
       "H2O data parsing timezone:  UTC\n",
       "H2O cluster version:        3.22.0.3\n",
       "H2O cluster version age:    28 days, 19 hours and 20 minutes\n",
       "H2O cluster name:           H2O_from_python_maravenag_3wzuvj\n",
       "H2O cluster total nodes:    1\n",
       "H2O cluster free memory:    3.268 Gb\n",
       "H2O cluster total cores:    8\n",
       "H2O cluster allowed cores:  8\n",
       "H2O cluster status:         locked, healthy\n",
       "H2O connection url:         http://localhost:54321\n",
       "H2O connection proxy:\n",
       "H2O internal security:      False\n",
       "H2O API Extensions:         XGBoost, Algos, AutoML, Core V3, Core V4\n",
       "Python version:             3.6.7 final\n",
       "--------------------------  ----------------------------------------"
      ]
     },
     "metadata": {},
     "output_type": "display_data"
    }
   ],
   "source": [
    "h2o.init()\n",
    "h2o.remove_all()"
   ]
  },
  {
   "cell_type": "code",
   "execution_count": 3,
   "metadata": {},
   "outputs": [
    {
     "name": "stdout",
     "output_type": "stream",
     "text": [
      "Parse progress: |█████████████████████████████████████████████████████████| 100%\n"
     ]
    }
   ],
   "source": [
    "data = h2o.upload_file(\"data/winequality-red.csv\")"
   ]
  },
  {
   "cell_type": "code",
   "execution_count": 4,
   "metadata": {},
   "outputs": [
    {
     "data": {
      "text/html": [
       "<table>\n",
       "<thead>\n",
       "<tr><th style=\"text-align: right;\">  fixed acidity</th><th style=\"text-align: right;\">  volatile acidity</th><th style=\"text-align: right;\">  citric acid</th><th style=\"text-align: right;\">  residual sugar</th><th style=\"text-align: right;\">  chlorides</th><th style=\"text-align: right;\">  free sulfur dioxide</th><th style=\"text-align: right;\">  total sulfur dioxide</th><th style=\"text-align: right;\">  density</th><th style=\"text-align: right;\">  pH</th><th style=\"text-align: right;\">  sulphates</th><th style=\"text-align: right;\">  alcohol</th><th style=\"text-align: right;\">  quality</th></tr>\n",
       "</thead>\n",
       "<tbody>\n",
       "<tr><td style=\"text-align: right;\">            7.4</td><td style=\"text-align: right;\">              0.7 </td><td style=\"text-align: right;\">         0   </td><td style=\"text-align: right;\">             1.9</td><td style=\"text-align: right;\">      0.076</td><td style=\"text-align: right;\">                   11</td><td style=\"text-align: right;\">                    34</td><td style=\"text-align: right;\">   0.9978</td><td style=\"text-align: right;\">3.51</td><td style=\"text-align: right;\">       0.56</td><td style=\"text-align: right;\">      9.4</td><td style=\"text-align: right;\">        5</td></tr>\n",
       "<tr><td style=\"text-align: right;\">            7.8</td><td style=\"text-align: right;\">              0.88</td><td style=\"text-align: right;\">         0   </td><td style=\"text-align: right;\">             2.6</td><td style=\"text-align: right;\">      0.098</td><td style=\"text-align: right;\">                   25</td><td style=\"text-align: right;\">                    67</td><td style=\"text-align: right;\">   0.9968</td><td style=\"text-align: right;\">3.2 </td><td style=\"text-align: right;\">       0.68</td><td style=\"text-align: right;\">      9.8</td><td style=\"text-align: right;\">        5</td></tr>\n",
       "<tr><td style=\"text-align: right;\">            7.8</td><td style=\"text-align: right;\">              0.76</td><td style=\"text-align: right;\">         0.04</td><td style=\"text-align: right;\">             2.3</td><td style=\"text-align: right;\">      0.092</td><td style=\"text-align: right;\">                   15</td><td style=\"text-align: right;\">                    54</td><td style=\"text-align: right;\">   0.997 </td><td style=\"text-align: right;\">3.26</td><td style=\"text-align: right;\">       0.65</td><td style=\"text-align: right;\">      9.8</td><td style=\"text-align: right;\">        5</td></tr>\n",
       "<tr><td style=\"text-align: right;\">           11.2</td><td style=\"text-align: right;\">              0.28</td><td style=\"text-align: right;\">         0.56</td><td style=\"text-align: right;\">             1.9</td><td style=\"text-align: right;\">      0.075</td><td style=\"text-align: right;\">                   17</td><td style=\"text-align: right;\">                    60</td><td style=\"text-align: right;\">   0.998 </td><td style=\"text-align: right;\">3.16</td><td style=\"text-align: right;\">       0.58</td><td style=\"text-align: right;\">      9.8</td><td style=\"text-align: right;\">        6</td></tr>\n",
       "<tr><td style=\"text-align: right;\">            7.4</td><td style=\"text-align: right;\">              0.7 </td><td style=\"text-align: right;\">         0   </td><td style=\"text-align: right;\">             1.9</td><td style=\"text-align: right;\">      0.076</td><td style=\"text-align: right;\">                   11</td><td style=\"text-align: right;\">                    34</td><td style=\"text-align: right;\">   0.9978</td><td style=\"text-align: right;\">3.51</td><td style=\"text-align: right;\">       0.56</td><td style=\"text-align: right;\">      9.4</td><td style=\"text-align: right;\">        5</td></tr>\n",
       "<tr><td style=\"text-align: right;\">            7.4</td><td style=\"text-align: right;\">              0.66</td><td style=\"text-align: right;\">         0   </td><td style=\"text-align: right;\">             1.8</td><td style=\"text-align: right;\">      0.075</td><td style=\"text-align: right;\">                   13</td><td style=\"text-align: right;\">                    40</td><td style=\"text-align: right;\">   0.9978</td><td style=\"text-align: right;\">3.51</td><td style=\"text-align: right;\">       0.56</td><td style=\"text-align: right;\">      9.4</td><td style=\"text-align: right;\">        5</td></tr>\n",
       "<tr><td style=\"text-align: right;\">            7.9</td><td style=\"text-align: right;\">              0.6 </td><td style=\"text-align: right;\">         0.06</td><td style=\"text-align: right;\">             1.6</td><td style=\"text-align: right;\">      0.069</td><td style=\"text-align: right;\">                   15</td><td style=\"text-align: right;\">                    59</td><td style=\"text-align: right;\">   0.9964</td><td style=\"text-align: right;\">3.3 </td><td style=\"text-align: right;\">       0.46</td><td style=\"text-align: right;\">      9.4</td><td style=\"text-align: right;\">        5</td></tr>\n",
       "<tr><td style=\"text-align: right;\">            7.3</td><td style=\"text-align: right;\">              0.65</td><td style=\"text-align: right;\">         0   </td><td style=\"text-align: right;\">             1.2</td><td style=\"text-align: right;\">      0.065</td><td style=\"text-align: right;\">                   15</td><td style=\"text-align: right;\">                    21</td><td style=\"text-align: right;\">   0.9946</td><td style=\"text-align: right;\">3.39</td><td style=\"text-align: right;\">       0.47</td><td style=\"text-align: right;\">     10  </td><td style=\"text-align: right;\">        7</td></tr>\n",
       "<tr><td style=\"text-align: right;\">            7.8</td><td style=\"text-align: right;\">              0.58</td><td style=\"text-align: right;\">         0.02</td><td style=\"text-align: right;\">             2  </td><td style=\"text-align: right;\">      0.073</td><td style=\"text-align: right;\">                    9</td><td style=\"text-align: right;\">                    18</td><td style=\"text-align: right;\">   0.9968</td><td style=\"text-align: right;\">3.36</td><td style=\"text-align: right;\">       0.57</td><td style=\"text-align: right;\">      9.5</td><td style=\"text-align: right;\">        7</td></tr>\n",
       "<tr><td style=\"text-align: right;\">            7.5</td><td style=\"text-align: right;\">              0.5 </td><td style=\"text-align: right;\">         0.36</td><td style=\"text-align: right;\">             6.1</td><td style=\"text-align: right;\">      0.071</td><td style=\"text-align: right;\">                   17</td><td style=\"text-align: right;\">                   102</td><td style=\"text-align: right;\">   0.9978</td><td style=\"text-align: right;\">3.35</td><td style=\"text-align: right;\">       0.8 </td><td style=\"text-align: right;\">     10.5</td><td style=\"text-align: right;\">        5</td></tr>\n",
       "</tbody>\n",
       "</table>"
      ]
     },
     "metadata": {},
     "output_type": "display_data"
    },
    {
     "data": {
      "text/plain": []
     },
     "execution_count": 4,
     "metadata": {},
     "output_type": "execute_result"
    }
   ],
   "source": [
    "data.head(10)"
   ]
  },
  {
   "cell_type": "code",
   "execution_count": 5,
   "metadata": {},
   "outputs": [],
   "source": [
    "train_cols = [x for x in data.col_names if x not in ['quality'] ] "
   ]
  },
  {
   "cell_type": "code",
   "execution_count": 6,
   "metadata": {},
   "outputs": [],
   "source": [
    "train, test = data.split_frame(ratios=[0.7])"
   ]
  },
  {
   "cell_type": "code",
   "execution_count": 7,
   "metadata": {},
   "outputs": [],
   "source": [
    "from h2o.estimators.gbm import H2OGradientBoostingEstimator"
   ]
  },
  {
   "cell_type": "code",
   "execution_count": 8,
   "metadata": {},
   "outputs": [],
   "source": [
    "def train_model(max_depth, \n",
    "                ntrees,\n",
    "                min_rows, \n",
    "                learn_rate, \n",
    "                sample_rate, \n",
    "                col_sample_rate):\n",
    "    params = {\n",
    "        'max_depth': int(max_depth),\n",
    "        'ntrees': int(ntrees),\n",
    "        'min_rows': int(min_rows),\n",
    "        'learn_rate':learn_rate,\n",
    "        'sample_rate':sample_rate,\n",
    "        'col_sample_rate':col_sample_rate\n",
    "    }\n",
    "    model = H2OGradientBoostingEstimator(nfolds=5,**params)\n",
    "    model.train(x=train_cols, y='quality', training_frame=train)\n",
    "    return -model.rmse()"
   ]
  },
  {
   "cell_type": "code",
   "execution_count": 9,
   "metadata": {},
   "outputs": [],
   "source": [
    "bounds = {\n",
    "    'max_depth':(5,10),\n",
    "    'ntrees': (100,500),\n",
    "    'min_rows':(10,30),\n",
    "    'learn_rate':(0.001, 0.01),\n",
    "    'sample_rate':(0.5,0.8),\n",
    "    'col_sample_rate':(0.5,0.8)\n",
    "}"
   ]
  },
  {
   "cell_type": "code",
   "execution_count": 10,
   "metadata": {},
   "outputs": [],
   "source": [
    "optimizer = BayesianOptimization(\n",
    "    f=train_model,\n",
    "    pbounds=bounds,\n",
    "    random_state=1,\n",
    ")"
   ]
  },
  {
   "cell_type": "code",
   "execution_count": 11,
   "metadata": {},
   "outputs": [
    {
     "name": "stdout",
     "output_type": "stream",
     "text": [
      "|   iter    |  target   | col_sa... | learn_... | max_depth | min_rows  |  ntrees   | sample... |\n",
      "-------------------------------------------------------------------------------------------------\n",
      "gbm Model Build progress: |███████████████████████████████████████████████| 100%\n",
      "|  1        | -0.5997   |  0.6251   |  0.007483 |  5.001    |  16.05    |  158.7    |  0.5277   |\n",
      "gbm Model Build progress: |███████████████████████████████████████████████| 100%\n",
      "|  2        | -0.5934   |  0.5559   |  0.00411  |  6.984    |  20.78    |  267.7    |  0.7056   |\n",
      "gbm Model Build progress: |███████████████████████████████████████████████| 100%\n",
      "|  3        | -0.5472   |  0.5613   |  0.008903 |  5.137    |  23.41    |  266.9    |  0.6676   |\n",
      "gbm Model Build progress: |███████████████████████████████████████████████| 100%\n",
      "|  4        | -0.6594   |  0.5421   |  0.002783 |  9.004    |  29.37    |  225.4    |  0.7077   |\n",
      "gbm Model Build progress: |███████████████████████████████████████████████| 100%\n",
      "|  5        | -0.544    |  0.7629   |  0.009051 |  5.425    |  10.78    |  167.9    |  0.7634   |\n",
      "gbm Model Build progress: |███████████████████████████████████████████████| 100%\n",
      "|  6        | -0.5455   |  0.5295   |  0.00479  |  9.789    |  20.66    |  376.8    |  0.5947   |\n",
      "gbm Model Build progress: |███████████████████████████████████████████████| 100%\n",
      "|  7        | -0.5085   |  0.706    |  0.008512 |  5.091    |  25.0     |  495.5    |  0.7244   |\n",
      "gbm Model Build progress: |███████████████████████████████████████████████| 100%\n",
      "|  8        | -0.5085   |  0.5841   |  0.008104 |  5.516    |  18.96    |  463.4    |  0.5881   |\n",
      "gbm Model Build progress: |███████████████████████████████████████████████| 100%\n",
      "|  9        | -0.6975   |  0.5863   |  0.00217  |  5.097    |  23.58    |  184.7    |  0.5797   |\n",
      "gbm Model Build progress: |███████████████████████████████████████████████| 100%\n",
      "|  10       | -0.6496   |  0.6475   |  0.00148  |  7.871    |  12.93    |  335.7    |  0.7099   |\n",
      "gbm Model Build progress: |███████████████████████████████████████████████| 100%\n",
      "|  11       | -0.5884   |  0.8      |  0.01     |  5.0      |  10.0     |  100.0    |  0.8      |\n",
      "gbm Model Build progress: |███████████████████████████████████████████████| 100%\n",
      "|  12       | -0.5109   |  0.8      |  0.01     |  5.0      |  30.0     |  424.1    |  0.8      |\n",
      "gbm Model Build progress: |███████████████████████████████████████████████| 100%\n",
      "|  13       | -0.2877   |  0.8      |  0.01     |  10.0     |  10.0     |  500.0    |  0.8      |\n",
      "gbm Model Build progress: |███████████████████████████████████████████████| 100%\n",
      "|  14       | -0.448    |  0.8      |  0.01     |  5.0      |  10.0     |  415.4    |  0.8      |\n",
      "gbm Model Build progress: |███████████████████████████████████████████████| 100%\n",
      "|  15       | -0.469    |  0.5      |  0.01     |  5.0      |  10.0     |  500.0    |  0.5      |\n",
      "gbm Model Build progress: |███████████████████████████████████████████████| 100%\n",
      "|  16       | -0.4936   |  0.8      |  0.01     |  10.0     |  30.0     |  307.0    |  0.8      |\n",
      "gbm Model Build progress: |███████████████████████████████████████████████| 100%\n",
      "|  17       | -0.6413   |  0.8      |  0.001    |  10.0     |  10.0     |  439.3    |  0.8      |\n",
      "gbm Model Build progress: |███████████████████████████████████████████████| 100%\n",
      "|  18       | -0.7587   |  0.8      |  0.001    |  10.0     |  30.0     |  100.0    |  0.8      |\n",
      "gbm Model Build progress: |███████████████████████████████████████████████| 100%\n",
      "|  19       | -0.2894   |  0.8      |  0.01     |  10.0     |  10.0     |  483.3    |  0.8      |\n",
      "gbm Model Build progress: |███████████████████████████████████████████████| 100%\n",
      "|  20       | -0.5215   |  0.8      |  0.01     |  5.0      |  30.0     |  345.4    |  0.8      |\n",
      "gbm Model Build progress: |███████████████████████████████████████████████| 100%\n",
      "|  21       | -0.4497   |  0.8      |  0.01     |  10.0     |  30.0     |  475.6    |  0.8      |\n",
      "gbm Model Build progress: |███████████████████████████████████████████████| 100%\n",
      "|  22       | -0.6954   |  0.8      |  0.001    |  5.0      |  30.0     |  395.9    |  0.8      |\n",
      "gbm Model Build progress: |███████████████████████████████████████████████| 100%\n",
      "|  23       | -0.5234   |  0.8      |  0.01     |  5.0      |  10.0     |  222.6    |  0.5      |\n",
      "gbm Model Build progress: |███████████████████████████████████████████████| 100%\n",
      "|  24       | -0.738    |  0.8      |  0.001    |  10.0     |  10.0     |  128.2    |  0.8      |\n",
      "gbm Model Build progress: |███████████████████████████████████████████████| 100%\n",
      "|  25       | -0.4555   |  0.8      |  0.01     |  5.0      |  10.0     |  373.5    |  0.8      |\n",
      "gbm Model Build progress: |███████████████████████████████████████████████| 100%\n",
      "|  26       | -0.4038   |  0.5      |  0.01     |  10.0     |  10.0     |  396.3    |  0.5      |\n",
      "gbm Model Build progress: |███████████████████████████████████████████████| 100%\n",
      "|  27       | -0.4528   |  0.5      |  0.007678 |  10.0     |  14.41    |  491.3    |  0.5      |\n",
      "gbm Model Build progress: |███████████████████████████████████████████████| 100%\n",
      "|  28       | -0.5027   |  0.8      |  0.01     |  5.0      |  10.0     |  297.5    |  0.5      |\n",
      "gbm Model Build progress: |███████████████████████████████████████████████| 100%\n",
      "|  29       | -0.6718   |  0.8      |  0.001    |  10.0     |  30.0     |  500.0    |  0.8      |\n",
      "gbm Model Build progress: |███████████████████████████████████████████████| 100%\n",
      "|  30       | -0.5158   |  0.8      |  0.01     |  5.0      |  10.0     |  246.5    |  0.5      |\n",
      "gbm Model Build progress: |███████████████████████████████████████████████| 100%\n",
      "|  31       | -0.7257   |  0.5      |  0.001    |  5.0      |  30.0     |  288.1    |  0.5      |\n",
      "gbm Model Build progress: |███████████████████████████████████████████████| 100%\n",
      "|  32       | -0.5978   |  0.5      |  0.01     |  5.0      |  30.0     |  132.2    |  0.8      |\n",
      "gbm Model Build progress: |███████████████████████████████████████████████| 100%\n",
      "|  33       | -0.43     |  0.5      |  0.01     |  10.0     |  10.0     |  198.2    |  0.8      |\n",
      "gbm Model Build progress: |███████████████████████████████████████████████| 100%\n",
      "|  34       | -0.5549   |  0.8      |  0.01     |  10.0     |  30.0     |  250.4    |  0.5      |\n",
      "gbm Model Build progress: |███████████████████████████████████████████████| 100%\n",
      "|  35       | -0.7196   |  0.5      |  0.001    |  5.0      |  30.0     |  322.8    |  0.5      |\n",
      "gbm Model Build progress: |███████████████████████████████████████████████| 100%\n",
      "|  36       | -0.4007   |  0.8      |  0.01     |  10.0     |  10.0     |  357.8    |  0.5      |\n",
      "gbm Model Build progress: |███████████████████████████████████████████████| 100%\n",
      "|  37       | -0.5584   |  0.8      |  0.01     |  10.0     |  30.0     |  158.4    |  0.8      |\n",
      "gbm Model Build progress: |███████████████████████████████████████████████| 100%\n",
      "|  38       | -0.4583   |  0.8      |  0.01     |  10.0     |  30.0     |  448.3    |  0.8      |\n",
      "gbm Model Build progress: |███████████████████████████████████████████████| 100%\n",
      "|  39       | -0.3452   |  0.8      |  0.01     |  10.0     |  10.0     |  311.3    |  0.8      |\n",
      "gbm Model Build progress: |████████████████████████████████████████████████| 100%\n",
      "|  40       | -0.4789   |  0.8      |  0.01     |  10.0     |  30.0     |  359.7    |  0.8      |\n",
      "gbm Model Build progress: |███████████████████████████████████████████████| 100%\n",
      "|  41       | -0.2975   |  0.8      |  0.01     |  10.0     |  10.0     |  469.6    |  0.8      |\n",
      "gbm Model Build progress: |███████████████████████████████████████████████| 100%\n",
      "|  42       | -0.4103   |  0.8      |  0.01     |  10.0     |  19.63    |  413.5    |  0.8      |\n",
      "gbm Model Build progress: |███████████████████████████████████████████████| 100%\n",
      "|  43       | -0.435    |  0.8      |  0.01     |  5.0      |  10.0     |  475.2    |  0.8      |\n",
      "gbm Model Build progress: |███████████████████████████████████████████████| 100%\n",
      "|  44       | -0.7274   |  0.8      |  0.001    |  5.0      |  10.0     |  200.3    |  0.8      |\n",
      "gbm Model Build progress: |███████████████████████████████████████████████| 100%\n",
      "|  45       | -0.4048   |  0.5      |  0.01     |  10.0     |  10.0     |  231.9    |  0.8      |\n",
      "gbm Model Build progress: |███████████████████████████████████████████████| 100%\n",
      "|  46       | -0.4993   |  0.5      |  0.01     |  10.0     |  10.0     |  181.3    |  0.5      |\n",
      "gbm Model Build progress: |███████████████████████████████████████████████| 100%\n",
      "|  47       | -0.5434   |  0.5      |  0.01     |  10.0     |  30.0     |  200.4    |  0.8      |\n",
      "gbm Model Build progress: |███████████████████████████████████████████████| 100%\n",
      "|  48       | -0.4776   |  0.5      |  0.01     |  10.0     |  10.0     |  214.6    |  0.5      |\n",
      "gbm Model Build progress: |███████████████████████████████████████████████| 100%\n",
      "|  49       | -0.5237   |  0.5      |  0.01     |  5.0      |  18.83    |  358.7    |  0.5      |\n",
      "gbm Model Build progress: |███████████████████████████████████████████████| 100%\n",
      "|  50       | -0.3677   |  0.5      |  0.01     |  10.0     |  10.0     |  299.1    |  0.8      |\n",
      "gbm Model Build progress: |███████████████████████████████████████████████| 100%\n",
      "|  51       | -0.4859   |  0.8      |  0.01     |  10.0     |  17.45    |  305.9    |  0.5      |\n",
      "gbm Model Build progress: |███████████████████████████████████████████████| 100%\n",
      "|  52       | -0.3133   |  0.8      |  0.01     |  10.0     |  10.0     |  410.9    |  0.8      |\n",
      "gbm Model Build progress: |███████████████████████████████████████████████| 100%\n",
      "|  53       | -0.5038   |  0.8      |  0.01     |  5.0      |  30.0     |  463.9    |  0.8      |\n",
      "gbm Model Build progress: |███████████████████████████████████████████████| 100%\n",
      "|  54       | -0.6476   |  0.8      |  0.001    |  10.0     |  14.72    |  475.2    |  0.8      |\n",
      "gbm Model Build progress: |███████████████████████████████████████████████| 100%\n",
      "|  55       | -0.4539   |  0.5      |  0.01     |  5.0      |  10.0     |  456.1    |  0.8      |\n",
      "gbm Model Build progress: |███████████████████████████████████████████████| 100%\n",
      "|  56       | -0.4721   |  0.5      |  0.01     |  10.0     |  10.0     |  151.9    |  0.8      |\n",
      "gbm Model Build progress: |███████████████████████████████████████████████| 100%\n",
      "|  57       | -0.5254   |  0.8      |  0.01     |  5.0      |  30.0     |  485.7    |  0.5      |\n",
      "gbm Model Build progress: |███████████████████████████████████████████████| 100%\n",
      "|  58       | -0.5565   |  0.5      |  0.01     |  10.0     |  30.0     |  176.4    |  0.8      |\n",
      "gbm Model Build progress: |███████████████████████████████████████████████| 100%\n",
      "|  59       | -0.3685   |  0.8      |  0.01     |  10.0     |  10.0     |  460.1    |  0.5      |\n",
      "gbm Model Build progress: |███████████████████████████████████████████████| 100%\n",
      "|  60       | -0.6259   |  0.5      |  0.01     |  5.0      |  30.0     |  115.0    |  0.5      |\n",
      "=================================================================================================\n"
     ]
    }
   ],
   "source": [
    "optimizer.maximize(init_points=10, n_iter=50)"
   ]
  },
  {
   "cell_type": "code",
   "execution_count": 12,
   "metadata": {},
   "outputs": [
    {
     "data": {
      "text/plain": [
       "{'target': -0.28765789542728204,\n",
       " 'params': {'col_sample_rate': 0.8,\n",
       "  'learn_rate': 0.01,\n",
       "  'max_depth': 10.0,\n",
       "  'min_rows': 10.0,\n",
       "  'ntrees': 500.0,\n",
       "  'sample_rate': 0.8}}"
      ]
     },
     "execution_count": 12,
     "metadata": {},
     "output_type": "execute_result"
    }
   ],
   "source": [
    "optimizer.max"
   ]
  }
 ],
 "metadata": {
  "kernelspec": {
   "display_name": "Python [conda env:spike_basicoV2]",
   "language": "python",
   "name": "conda-env-spike_basicoV2-py"
  },
  "language_info": {
   "codemirror_mode": {
    "name": "ipython",
    "version": 3
   },
   "file_extension": ".py",
   "mimetype": "text/x-python",
   "name": "python",
   "nbconvert_exporter": "python",
   "pygments_lexer": "ipython3",
   "version": "3.6.7"
  }
 },
 "nbformat": 4,
 "nbformat_minor": 2
}
