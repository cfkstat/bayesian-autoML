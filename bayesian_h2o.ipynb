{
 "cells": [
  {
   "cell_type": "code",
   "execution_count": 125,
   "metadata": {},
   "outputs": [],
   "source": [
    "import h2o\n",
    "from bayes_opt import BayesianOptimization"
   ]
  },
  {
   "cell_type": "code",
   "execution_count": 126,
   "metadata": {},
   "outputs": [
    {
     "name": "stdout",
     "output_type": "stream",
     "text": [
      "Checking whether there is an H2O instance running at http://localhost:54321. connected.\n"
     ]
    },
    {
     "data": {
      "text/html": [
       "<div style=\"overflow:auto\"><table style=\"width:50%\"><tr><td>H2O cluster uptime:</td>\n",
       "<td>22 hours 35 mins</td></tr>\n",
       "<tr><td>H2O cluster timezone:</td>\n",
       "<td>America/Santiago</td></tr>\n",
       "<tr><td>H2O data parsing timezone:</td>\n",
       "<td>UTC</td></tr>\n",
       "<tr><td>H2O cluster version:</td>\n",
       "<td>3.22.1.3</td></tr>\n",
       "<tr><td>H2O cluster version age:</td>\n",
       "<td>17 days </td></tr>\n",
       "<tr><td>H2O cluster name:</td>\n",
       "<td>H2O_from_python_maravenag_4bxahk</td></tr>\n",
       "<tr><td>H2O cluster total nodes:</td>\n",
       "<td>1</td></tr>\n",
       "<tr><td>H2O cluster free memory:</td>\n",
       "<td>3.495 Gb</td></tr>\n",
       "<tr><td>H2O cluster total cores:</td>\n",
       "<td>8</td></tr>\n",
       "<tr><td>H2O cluster allowed cores:</td>\n",
       "<td>8</td></tr>\n",
       "<tr><td>H2O cluster status:</td>\n",
       "<td>locked, healthy</td></tr>\n",
       "<tr><td>H2O connection url:</td>\n",
       "<td>http://localhost:54321</td></tr>\n",
       "<tr><td>H2O connection proxy:</td>\n",
       "<td>None</td></tr>\n",
       "<tr><td>H2O internal security:</td>\n",
       "<td>False</td></tr>\n",
       "<tr><td>H2O API Extensions:</td>\n",
       "<td>XGBoost, Algos, AutoML, Core V3, Core V4</td></tr>\n",
       "<tr><td>Python version:</td>\n",
       "<td>3.6.7 final</td></tr></table></div>"
      ],
      "text/plain": [
       "--------------------------  ----------------------------------------\n",
       "H2O cluster uptime:         22 hours 35 mins\n",
       "H2O cluster timezone:       America/Santiago\n",
       "H2O data parsing timezone:  UTC\n",
       "H2O cluster version:        3.22.1.3\n",
       "H2O cluster version age:    17 days\n",
       "H2O cluster name:           H2O_from_python_maravenag_4bxahk\n",
       "H2O cluster total nodes:    1\n",
       "H2O cluster free memory:    3.495 Gb\n",
       "H2O cluster total cores:    8\n",
       "H2O cluster allowed cores:  8\n",
       "H2O cluster status:         locked, healthy\n",
       "H2O connection url:         http://localhost:54321\n",
       "H2O connection proxy:\n",
       "H2O internal security:      False\n",
       "H2O API Extensions:         XGBoost, Algos, AutoML, Core V3, Core V4\n",
       "Python version:             3.6.7 final\n",
       "--------------------------  ----------------------------------------"
      ]
     },
     "metadata": {},
     "output_type": "display_data"
    }
   ],
   "source": [
    "h2o.init()\n",
    "h2o.remove_all()"
   ]
  },
  {
   "cell_type": "code",
   "execution_count": 127,
   "metadata": {},
   "outputs": [
    {
     "name": "stdout",
     "output_type": "stream",
     "text": [
      "Parse progress: |█████████████████████████████████████████████████████████| 100%\n"
     ]
    }
   ],
   "source": [
    "data = h2o.upload_file(\"data/winequality-red.csv\",destination_frame=\"train_frame\")"
   ]
  },
  {
   "cell_type": "code",
   "execution_count": 128,
   "metadata": {},
   "outputs": [
    {
     "data": {
      "text/html": [
       "<table>\n",
       "<thead>\n",
       "<tr><th style=\"text-align: right;\">  fixed acidity</th><th style=\"text-align: right;\">  volatile acidity</th><th style=\"text-align: right;\">  citric acid</th><th style=\"text-align: right;\">  residual sugar</th><th style=\"text-align: right;\">  chlorides</th><th style=\"text-align: right;\">  free sulfur dioxide</th><th style=\"text-align: right;\">  total sulfur dioxide</th><th style=\"text-align: right;\">  density</th><th style=\"text-align: right;\">  pH</th><th style=\"text-align: right;\">  sulphates</th><th style=\"text-align: right;\">  alcohol</th><th style=\"text-align: right;\">  quality</th></tr>\n",
       "</thead>\n",
       "<tbody>\n",
       "<tr><td style=\"text-align: right;\">            7.4</td><td style=\"text-align: right;\">              0.7 </td><td style=\"text-align: right;\">         0   </td><td style=\"text-align: right;\">             1.9</td><td style=\"text-align: right;\">      0.076</td><td style=\"text-align: right;\">                   11</td><td style=\"text-align: right;\">                    34</td><td style=\"text-align: right;\">   0.9978</td><td style=\"text-align: right;\">3.51</td><td style=\"text-align: right;\">       0.56</td><td style=\"text-align: right;\">      9.4</td><td style=\"text-align: right;\">        5</td></tr>\n",
       "<tr><td style=\"text-align: right;\">            7.8</td><td style=\"text-align: right;\">              0.88</td><td style=\"text-align: right;\">         0   </td><td style=\"text-align: right;\">             2.6</td><td style=\"text-align: right;\">      0.098</td><td style=\"text-align: right;\">                   25</td><td style=\"text-align: right;\">                    67</td><td style=\"text-align: right;\">   0.9968</td><td style=\"text-align: right;\">3.2 </td><td style=\"text-align: right;\">       0.68</td><td style=\"text-align: right;\">      9.8</td><td style=\"text-align: right;\">        5</td></tr>\n",
       "<tr><td style=\"text-align: right;\">            7.8</td><td style=\"text-align: right;\">              0.76</td><td style=\"text-align: right;\">         0.04</td><td style=\"text-align: right;\">             2.3</td><td style=\"text-align: right;\">      0.092</td><td style=\"text-align: right;\">                   15</td><td style=\"text-align: right;\">                    54</td><td style=\"text-align: right;\">   0.997 </td><td style=\"text-align: right;\">3.26</td><td style=\"text-align: right;\">       0.65</td><td style=\"text-align: right;\">      9.8</td><td style=\"text-align: right;\">        5</td></tr>\n",
       "<tr><td style=\"text-align: right;\">           11.2</td><td style=\"text-align: right;\">              0.28</td><td style=\"text-align: right;\">         0.56</td><td style=\"text-align: right;\">             1.9</td><td style=\"text-align: right;\">      0.075</td><td style=\"text-align: right;\">                   17</td><td style=\"text-align: right;\">                    60</td><td style=\"text-align: right;\">   0.998 </td><td style=\"text-align: right;\">3.16</td><td style=\"text-align: right;\">       0.58</td><td style=\"text-align: right;\">      9.8</td><td style=\"text-align: right;\">        6</td></tr>\n",
       "<tr><td style=\"text-align: right;\">            7.4</td><td style=\"text-align: right;\">              0.7 </td><td style=\"text-align: right;\">         0   </td><td style=\"text-align: right;\">             1.9</td><td style=\"text-align: right;\">      0.076</td><td style=\"text-align: right;\">                   11</td><td style=\"text-align: right;\">                    34</td><td style=\"text-align: right;\">   0.9978</td><td style=\"text-align: right;\">3.51</td><td style=\"text-align: right;\">       0.56</td><td style=\"text-align: right;\">      9.4</td><td style=\"text-align: right;\">        5</td></tr>\n",
       "<tr><td style=\"text-align: right;\">            7.4</td><td style=\"text-align: right;\">              0.66</td><td style=\"text-align: right;\">         0   </td><td style=\"text-align: right;\">             1.8</td><td style=\"text-align: right;\">      0.075</td><td style=\"text-align: right;\">                   13</td><td style=\"text-align: right;\">                    40</td><td style=\"text-align: right;\">   0.9978</td><td style=\"text-align: right;\">3.51</td><td style=\"text-align: right;\">       0.56</td><td style=\"text-align: right;\">      9.4</td><td style=\"text-align: right;\">        5</td></tr>\n",
       "<tr><td style=\"text-align: right;\">            7.9</td><td style=\"text-align: right;\">              0.6 </td><td style=\"text-align: right;\">         0.06</td><td style=\"text-align: right;\">             1.6</td><td style=\"text-align: right;\">      0.069</td><td style=\"text-align: right;\">                   15</td><td style=\"text-align: right;\">                    59</td><td style=\"text-align: right;\">   0.9964</td><td style=\"text-align: right;\">3.3 </td><td style=\"text-align: right;\">       0.46</td><td style=\"text-align: right;\">      9.4</td><td style=\"text-align: right;\">        5</td></tr>\n",
       "<tr><td style=\"text-align: right;\">            7.3</td><td style=\"text-align: right;\">              0.65</td><td style=\"text-align: right;\">         0   </td><td style=\"text-align: right;\">             1.2</td><td style=\"text-align: right;\">      0.065</td><td style=\"text-align: right;\">                   15</td><td style=\"text-align: right;\">                    21</td><td style=\"text-align: right;\">   0.9946</td><td style=\"text-align: right;\">3.39</td><td style=\"text-align: right;\">       0.47</td><td style=\"text-align: right;\">     10  </td><td style=\"text-align: right;\">        7</td></tr>\n",
       "<tr><td style=\"text-align: right;\">            7.8</td><td style=\"text-align: right;\">              0.58</td><td style=\"text-align: right;\">         0.02</td><td style=\"text-align: right;\">             2  </td><td style=\"text-align: right;\">      0.073</td><td style=\"text-align: right;\">                    9</td><td style=\"text-align: right;\">                    18</td><td style=\"text-align: right;\">   0.9968</td><td style=\"text-align: right;\">3.36</td><td style=\"text-align: right;\">       0.57</td><td style=\"text-align: right;\">      9.5</td><td style=\"text-align: right;\">        7</td></tr>\n",
       "<tr><td style=\"text-align: right;\">            7.5</td><td style=\"text-align: right;\">              0.5 </td><td style=\"text-align: right;\">         0.36</td><td style=\"text-align: right;\">             6.1</td><td style=\"text-align: right;\">      0.071</td><td style=\"text-align: right;\">                   17</td><td style=\"text-align: right;\">                   102</td><td style=\"text-align: right;\">   0.9978</td><td style=\"text-align: right;\">3.35</td><td style=\"text-align: right;\">       0.8 </td><td style=\"text-align: right;\">     10.5</td><td style=\"text-align: right;\">        5</td></tr>\n",
       "</tbody>\n",
       "</table>"
      ]
     },
     "metadata": {},
     "output_type": "display_data"
    },
    {
     "data": {
      "text/plain": []
     },
     "execution_count": 128,
     "metadata": {},
     "output_type": "execute_result"
    }
   ],
   "source": [
    "data.head(10)"
   ]
  },
  {
   "cell_type": "code",
   "execution_count": 129,
   "metadata": {},
   "outputs": [],
   "source": [
    "train_cols = [x for x in data.col_names if x not in ['quality'] ] "
   ]
  },
  {
   "cell_type": "code",
   "execution_count": 130,
   "metadata": {},
   "outputs": [],
   "source": [
    "train, test = data.split_frame(ratios=[0.7], destination_frames=['train', 'test'])"
   ]
  },
  {
   "cell_type": "code",
   "execution_count": 133,
   "metadata": {},
   "outputs": [],
   "source": [
    "from h2o.estimators.gbm import H2OGradientBoostingEstimator"
   ]
  },
  {
   "cell_type": "code",
   "execution_count": 134,
   "metadata": {},
   "outputs": [],
   "source": [
    "def train_model(max_depth, \n",
    "                ntrees,\n",
    "                min_rows, \n",
    "                learn_rate, \n",
    "                sample_rate, \n",
    "                col_sample_rate):\n",
    "    params = {\n",
    "        'max_depth': int(max_depth),\n",
    "        'ntrees': int(ntrees),\n",
    "        'min_rows': int(min_rows),\n",
    "        'learn_rate':learn_rate,\n",
    "        'sample_rate':sample_rate,\n",
    "        'col_sample_rate':col_sample_rate\n",
    "    }\n",
    "    model = H2OGradientBoostingEstimator(nfolds=5,**params)\n",
    "    model.train(x=train_cols, y='quality', training_frame=train)\n",
    "    h2o_data = h2o.ls()\n",
    "    h2o_data = list(h2o_data['key'])\n",
    "    h2o_data = list(filter(lambda x: x not in [\"train_frame\", \"train\", \"test\"], h2o_data))\n",
    "    metric = -model.rmse()\n",
    "    list(map(lambda x: h2o.remove(x), h2o_data))\n",
    "    return metric"
   ]
  },
  {
   "cell_type": "code",
   "execution_count": 135,
   "metadata": {},
   "outputs": [],
   "source": [
    "bounds = {\n",
    "    'max_depth':(5,10),\n",
    "    'ntrees': (100,500),\n",
    "    'min_rows':(10,30),\n",
    "    'learn_rate':(0.001, 0.01),\n",
    "    'sample_rate':(0.5,0.8),\n",
    "    'col_sample_rate':(0.5,0.8)\n",
    "}"
   ]
  },
  {
   "cell_type": "code",
   "execution_count": 136,
   "metadata": {},
   "outputs": [],
   "source": [
    "optimizer = BayesianOptimization(\n",
    "    f=train_model,\n",
    "    pbounds=bounds,\n",
    "    random_state=1,\n",
    ")"
   ]
  },
  {
   "cell_type": "code",
   "execution_count": 137,
   "metadata": {},
   "outputs": [
    {
     "name": "stdout",
     "output_type": "stream",
     "text": [
      "|   iter    |  target   | col_sa... | learn_... | max_depth | min_rows  |  ntrees   | sample... |\n",
      "-------------------------------------------------------------------------------------------------\n",
      "gbm Model Build progress: |███████████████████████████████████████████████| 100%\n",
      "|  1        | -0.6092   |  0.6251   |  0.007483 |  5.001    |  16.05    |  158.7    |  0.5277   |\n",
      "gbm Model Build progress: |███████████████████████████████████████████████| 100%\n",
      "|  2        | -0.6809   |  0.6642   |  0.005113 |  7.478    |  27.62    |  106.8    |  0.7639   |\n",
      "=================================================================================================\n"
     ]
    }
   ],
   "source": [
    "optimizer.maximize(init_points=10, n_iter=10)"
   ]
  },
  {
   "cell_type": "code",
   "execution_count": 12,
   "metadata": {},
   "outputs": [
    {
     "data": {
      "text/plain": [
       "{'target': -0.28765789542728204,\n",
       " 'params': {'col_sample_rate': 0.8,\n",
       "  'learn_rate': 0.01,\n",
       "  'max_depth': 10.0,\n",
       "  'min_rows': 10.0,\n",
       "  'ntrees': 500.0,\n",
       "  'sample_rate': 0.8}}"
      ]
     },
     "execution_count": 12,
     "metadata": {},
     "output_type": "execute_result"
    }
   ],
   "source": [
    "optimizer.max"
   ]
  }
 ],
 "metadata": {
  "kernelspec": {
   "display_name": "Python [conda env:spike_basicoV2]",
   "language": "python",
   "name": "conda-env-spike_basicoV2-py"
  },
  "language_info": {
   "codemirror_mode": {
    "name": "ipython",
    "version": 3
   },
   "file_extension": ".py",
   "mimetype": "text/x-python",
   "name": "python",
   "nbconvert_exporter": "python",
   "pygments_lexer": "ipython3",
   "version": "3.6.7"
  }
 },
 "nbformat": 4,
 "nbformat_minor": 2
}
