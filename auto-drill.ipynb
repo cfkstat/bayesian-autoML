{
 "cells": [
  {
   "cell_type": "markdown",
   "metadata": {},
   "source": [
    "### TL;DR\n",
    "\n",
    "Hice esto como en 2 horas, **es un experimento** y nada oficial"
   ]
  },
  {
   "cell_type": "code",
   "execution_count": 105,
   "metadata": {},
   "outputs": [],
   "source": [
    "import pandas as pd\n",
    "import category_encoders as ce\n",
    "from bayes_opt import BayesianOptimization\n",
    "from keras.models import Sequential\n",
    "from keras.layers import Dense, InputLayer\n",
    "from sklearn.preprocessing import MinMaxScaler"
   ]
  },
  {
   "cell_type": "code",
   "execution_count": 106,
   "metadata": {},
   "outputs": [],
   "source": [
    "def test_data():\n",
    "    data = pd.read_csv(\"train.csv\")\n",
    "    data.drop(labels=['PassengerId','Name','Ticket','Cabin'], axis=1, inplace=True)\n",
    "    encoder = ce.TargetEncoder(cols=['Embarked','Sex','Pclass'])\n",
    "    data = encoder.fit_transform(data, data['Survived'])\n",
    "    data = data.dropna()\n",
    "    X = data[['Pclass','Sex','Age','SibSp','Parch','Fare','Embarked']]\n",
    "    scaler = MinMaxScaler()\n",
    "    X = pd.DataFrame(scaler.fit_transform(X), columns=X.columns)\n",
    "    y = data['Survived']\n",
    "    return X,y"
   ]
  },
  {
   "cell_type": "markdown",
   "metadata": {},
   "source": [
    "### AutoDrill\n",
    "\n",
    "Por ahora solo funciona para modelos de clasificación"
   ]
  },
  {
   "cell_type": "code",
   "execution_count": 117,
   "metadata": {},
   "outputs": [],
   "source": [
    "class AutoDrill(object):\n",
    "    input_dim=None\n",
    "    num_classes=None\n",
    "    num_models=None\n",
    "    x = None\n",
    "    y = None\n",
    "    num_iter = None\n",
    "    init_points = None\n",
    "    best = None\n",
    "    \n",
    "    def __init__(self, num_iter, init_points):\n",
    "        self.num_iter = num_iter\n",
    "        self.init_points = init_points\n",
    "        \n",
    "    def _set_params(self, num_hidden, num_neurons):\n",
    "        params = {\n",
    "            'num_hidden':int(num_hidden),\n",
    "            'num_neurons':int(num_neurons)\n",
    "        }\n",
    "        return params\n",
    "        \n",
    "    def _build_model(self, **kwargs):\n",
    "        num_hidden = kwargs['num_hidden']\n",
    "        num_neurons = kwargs['num_neurons']\n",
    "        model = Sequential()\n",
    "        model.add(InputLayer(input_shape=(self.input_dim,)))\n",
    "        for i in range(0, num_hidden):\n",
    "            model.add((Dense(num_neurons,activation=\"relu\")))\n",
    "        model.add(Dense(self.num_classes, activation=\"softmax\"))\n",
    "        model.compile(loss='categorical_crossentropy', optimizer='adam', metrics=['categorical_accuracy'])\n",
    "        return model\n",
    "    \n",
    "    def _run_model(self, num_hidden, num_neurons):\n",
    "        params = self._set_params(num_hidden, num_neurons)\n",
    "        m = self._build_model(**params)\n",
    "        h = m.fit(self.x.values, self.y.values, epochs=40, batch_size=16, verbose=0, shuffle=False)\n",
    "        v = h.history['categorical_accuracy'][-1]\n",
    "        return v\n",
    "    \n",
    "    def fit(self, x=None, y=None):\n",
    "        self.input_dim = x.shape[1]\n",
    "        self.num_classes = y.nunique()\n",
    "        y = pd.get_dummies(y)\n",
    "        self.x = x\n",
    "        self.y = y\n",
    "        opt = BayesianOptimization(self._run_model,{'num_hidden':(1,10),\n",
    "                                                    'num_neurons':(self.input_dim, 2*self.input_dim)})\n",
    "        opt.maximize(init_points=self.init_points, n_iter=self.num_iter)\n",
    "        self.best = opt.res['max']"
   ]
  },
  {
   "cell_type": "markdown",
   "metadata": {},
   "source": [
    "### Preparamos los datos"
   ]
  },
  {
   "cell_type": "code",
   "execution_count": 118,
   "metadata": {},
   "outputs": [],
   "source": [
    "X,y = test_data()"
   ]
  },
  {
   "cell_type": "code",
   "execution_count": 122,
   "metadata": {},
   "outputs": [
    {
     "data": {
      "text/html": [
       "<div>\n",
       "<style scoped>\n",
       "    .dataframe tbody tr th:only-of-type {\n",
       "        vertical-align: middle;\n",
       "    }\n",
       "\n",
       "    .dataframe tbody tr th {\n",
       "        vertical-align: top;\n",
       "    }\n",
       "\n",
       "    .dataframe thead th {\n",
       "        text-align: right;\n",
       "    }\n",
       "</style>\n",
       "<table border=\"1\" class=\"dataframe\">\n",
       "  <thead>\n",
       "    <tr style=\"text-align: right;\">\n",
       "      <th></th>\n",
       "      <th>Pclass</th>\n",
       "      <th>Sex</th>\n",
       "      <th>Age</th>\n",
       "      <th>SibSp</th>\n",
       "      <th>Parch</th>\n",
       "      <th>Fare</th>\n",
       "      <th>Embarked</th>\n",
       "    </tr>\n",
       "  </thead>\n",
       "  <tbody>\n",
       "    <tr>\n",
       "      <th>0</th>\n",
       "      <td>0.0</td>\n",
       "      <td>0.0</td>\n",
       "      <td>0.271174</td>\n",
       "      <td>0.2</td>\n",
       "      <td>0.0</td>\n",
       "      <td>0.014151</td>\n",
       "      <td>0.0</td>\n",
       "    </tr>\n",
       "    <tr>\n",
       "      <th>1</th>\n",
       "      <td>1.0</td>\n",
       "      <td>1.0</td>\n",
       "      <td>0.472229</td>\n",
       "      <td>0.2</td>\n",
       "      <td>0.0</td>\n",
       "      <td>0.139136</td>\n",
       "      <td>1.0</td>\n",
       "    </tr>\n",
       "    <tr>\n",
       "      <th>2</th>\n",
       "      <td>0.0</td>\n",
       "      <td>1.0</td>\n",
       "      <td>0.321438</td>\n",
       "      <td>0.0</td>\n",
       "      <td>0.0</td>\n",
       "      <td>0.015469</td>\n",
       "      <td>0.0</td>\n",
       "    </tr>\n",
       "    <tr>\n",
       "      <th>3</th>\n",
       "      <td>1.0</td>\n",
       "      <td>1.0</td>\n",
       "      <td>0.434531</td>\n",
       "      <td>0.2</td>\n",
       "      <td>0.0</td>\n",
       "      <td>0.103644</td>\n",
       "      <td>0.0</td>\n",
       "    </tr>\n",
       "    <tr>\n",
       "      <th>4</th>\n",
       "      <td>0.0</td>\n",
       "      <td>0.0</td>\n",
       "      <td>0.434531</td>\n",
       "      <td>0.0</td>\n",
       "      <td>0.0</td>\n",
       "      <td>0.015713</td>\n",
       "      <td>0.0</td>\n",
       "    </tr>\n",
       "  </tbody>\n",
       "</table>\n",
       "</div>"
      ],
      "text/plain": [
       "   Pclass  Sex       Age  SibSp  Parch      Fare  Embarked\n",
       "0     0.0  0.0  0.271174    0.2    0.0  0.014151       0.0\n",
       "1     1.0  1.0  0.472229    0.2    0.0  0.139136       1.0\n",
       "2     0.0  1.0  0.321438    0.0    0.0  0.015469       0.0\n",
       "3     1.0  1.0  0.434531    0.2    0.0  0.103644       0.0\n",
       "4     0.0  0.0  0.434531    0.0    0.0  0.015713       0.0"
      ]
     },
     "execution_count": 122,
     "metadata": {},
     "output_type": "execute_result"
    }
   ],
   "source": [
    "X.head(5)"
   ]
  },
  {
   "cell_type": "code",
   "execution_count": 123,
   "metadata": {},
   "outputs": [
    {
     "data": {
      "text/plain": [
       "0    0\n",
       "1    1\n",
       "2    1\n",
       "3    1\n",
       "4    0\n",
       "Name: Survived, dtype: int64"
      ]
     },
     "execution_count": 123,
     "metadata": {},
     "output_type": "execute_result"
    }
   ],
   "source": [
    "y.head(5)"
   ]
  },
  {
   "cell_type": "markdown",
   "metadata": {},
   "source": [
    "## Uso de AutoDrill\n",
    "\n",
    "definimos el numero de init_points y el numero de iteraciones que queremos hacer"
   ]
  },
  {
   "cell_type": "code",
   "execution_count": 119,
   "metadata": {},
   "outputs": [],
   "source": [
    "drill = AutoDrill(init_points=10, num_iter=15)"
   ]
  },
  {
   "cell_type": "code",
   "execution_count": 121,
   "metadata": {},
   "outputs": [
    {
     "name": "stdout",
     "output_type": "stream",
     "text": [
      "\u001b[31mInitialization\u001b[0m\n",
      "\u001b[94m------------------------------------------------------------\u001b[0m\n",
      " Step |   Time |      Value |   num_hidden |   num_neurons | \n",
      "    1 | 00m07s | \u001b[35m   0.81373\u001b[0m | \u001b[32m      5.5256\u001b[0m | \u001b[32m      10.5285\u001b[0m | \n",
      "    2 | 00m06s | \u001b[35m   0.82493\u001b[0m | \u001b[32m      5.1018\u001b[0m | \u001b[32m      11.2169\u001b[0m | \n",
      "    3 | 00m07s | \u001b[35m   0.83473\u001b[0m | \u001b[32m      4.2610\u001b[0m | \u001b[32m      13.0372\u001b[0m | \n",
      "    4 | 00m06s |    0.82633 |       3.6222 |       13.4036 | \n",
      "    5 | 00m05s |    0.82913 |       4.0077 |        9.8845 | \n",
      "    6 | 00m09s |    0.83473 |       9.5393 |       13.0393 | \n",
      "    7 | 00m06s |    0.82773 |       2.3861 |        9.7313 | \n",
      "    8 | 00m08s |    0.81793 |       6.5915 |        9.8558 | \n",
      "    9 | 00m07s |    0.82353 |       5.4578 |        9.9827 | \n",
      "   10 | 00m08s |    0.82073 |       8.9239 |        9.9201 | \n"
     ]
    },
    {
     "name": "stderr",
     "output_type": "stream",
     "text": [
      "/anaconda2/envs/matias/lib/python3.6/site-packages/sklearn/gaussian_process/gpr.py:457: UserWarning: fmin_l_bfgs_b terminated abnormally with the  state: {'grad': array([-6.1141185e-05]), 'task': b'ABNORMAL_TERMINATION_IN_LNSRCH', 'funcalls': 62, 'nit': 5, 'warnflag': 2}\n",
      "  \" state: %s\" % convergence_dict)\n"
     ]
    },
    {
     "name": "stdout",
     "output_type": "stream",
     "text": [
      "\u001b[31mBayesian Optimization\u001b[0m\n",
      "\u001b[94m------------------------------------------------------------\u001b[0m\n",
      " Step |   Time |      Value |   num_hidden |   num_neurons | \n",
      "   11 | 00m10s |    0.81373 |      10.0000 |        7.0000 | \n",
      "   12 | 00m11s |    0.81933 |       1.0000 |        7.0000 | \n",
      "   13 | 00m12s |    0.81092 |       5.6177 |        7.0000 | \n",
      "   14 | 00m10s |    0.82073 |       1.0000 |       12.4417 | \n",
      "   15 | 00m11s | \u001b[35m   0.84174\u001b[0m | \u001b[32m     10.0000\u001b[0m | \u001b[32m      14.0000\u001b[0m | \n",
      "   16 | 00m12s |    0.82773 |       7.4224 |       14.0000 | \n",
      "   17 | 00m11s |    0.81092 |       7.9663 |        7.5559 | \n",
      "   18 | 00m10s |    0.81933 |       1.0000 |       14.0000 | \n"
     ]
    },
    {
     "name": "stderr",
     "output_type": "stream",
     "text": [
      "/anaconda2/envs/matias/lib/python3.6/site-packages/sklearn/gaussian_process/gpr.py:457: UserWarning: fmin_l_bfgs_b terminated abnormally with the  state: {'grad': array([-4.32327801e-05]), 'task': b'ABNORMAL_TERMINATION_IN_LNSRCH', 'funcalls': 56, 'nit': 6, 'warnflag': 2}\n",
      "  \" state: %s\" % convergence_dict)\n"
     ]
    },
    {
     "name": "stdout",
     "output_type": "stream",
     "text": [
      "   19 | 00m15s |    0.83053 |       9.9999 |        8.8992 | \n"
     ]
    },
    {
     "name": "stderr",
     "output_type": "stream",
     "text": [
      "/anaconda2/envs/matias/lib/python3.6/site-packages/sklearn/gaussian_process/gpr.py:457: UserWarning: fmin_l_bfgs_b terminated abnormally with the  state: {'grad': array([-8.18825001e-05]), 'task': b'ABNORMAL_TERMINATION_IN_LNSRCH', 'funcalls': 53, 'nit': 6, 'warnflag': 2}\n",
      "  \" state: %s\" % convergence_dict)\n"
     ]
    },
    {
     "name": "stdout",
     "output_type": "stream",
     "text": [
      "   20 | 00m15s |    0.82353 |       1.0000 |        8.9973 | \n",
      "   21 | 00m14s |    0.82773 |       3.0472 |        7.5315 | \n",
      "   22 | 00m16s |    0.83193 |      10.0000 |       11.2614 | \n"
     ]
    },
    {
     "name": "stderr",
     "output_type": "stream",
     "text": [
      "/anaconda2/envs/matias/lib/python3.6/site-packages/sklearn/gaussian_process/gpr.py:457: UserWarning: fmin_l_bfgs_b terminated abnormally with the  state: {'grad': array([-0.00018438]), 'task': b'ABNORMAL_TERMINATION_IN_LNSRCH', 'funcalls': 61, 'nit': 7, 'warnflag': 2}\n",
      "  \" state: %s\" % convergence_dict)\n",
      "/anaconda2/envs/matias/lib/python3.6/site-packages/sklearn/gaussian_process/gpr.py:457: UserWarning: fmin_l_bfgs_b terminated abnormally with the  state: {'grad': array([-0.00021916]), 'task': b'ABNORMAL_TERMINATION_IN_LNSRCH', 'funcalls': 52, 'nit': 4, 'warnflag': 2}\n",
      "  \" state: %s\" % convergence_dict)\n",
      "/anaconda2/envs/matias/lib/python3.6/site-packages/sklearn/gaussian_process/gpr.py:335: UserWarning: Predicted variances smaller than 0. Setting those variances to 0.\n",
      "  warnings.warn(\"Predicted variances smaller than 0. \"\n"
     ]
    },
    {
     "name": "stdout",
     "output_type": "stream",
     "text": [
      "   23 | 00m16s |    0.82773 |       3.3091 |       11.8331 | \n",
      "   24 | 00m16s |    0.82773 |       5.1381 |        8.3827 | \n",
      "   25 | 00m17s |    0.83053 |       5.3981 |       14.0000 | \n"
     ]
    }
   ],
   "source": [
    "drill.fit(X,y)"
   ]
  },
  {
   "cell_type": "markdown",
   "metadata": {},
   "source": [
    "#### sacamos los mejores params"
   ]
  },
  {
   "cell_type": "code",
   "execution_count": 124,
   "metadata": {},
   "outputs": [
    {
     "data": {
      "text/plain": [
       "{'max_val': 0.8417366943439516,\n",
       " 'max_params': {'num_hidden': 10.0, 'num_neurons': 14.0}}"
      ]
     },
     "execution_count": 124,
     "metadata": {},
     "output_type": "execute_result"
    }
   ],
   "source": [
    "drill.best"
   ]
  },
  {
   "cell_type": "code",
   "execution_count": null,
   "metadata": {},
   "outputs": [],
   "source": []
  }
 ],
 "metadata": {
  "kernelspec": {
   "display_name": "Python [conda env:matias]",
   "language": "python",
   "name": "conda-env-matias-py"
  },
  "language_info": {
   "codemirror_mode": {
    "name": "ipython",
    "version": 3
   },
   "file_extension": ".py",
   "mimetype": "text/x-python",
   "name": "python",
   "nbconvert_exporter": "python",
   "pygments_lexer": "ipython3",
   "version": "3.6.5"
  }
 },
 "nbformat": 4,
 "nbformat_minor": 2
}
